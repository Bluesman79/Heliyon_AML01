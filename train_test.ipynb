{
 "cells": [
  {
   "cell_type": "code",
   "execution_count": null,
   "id": "b1956fcb-8a7d-4ce1-a45f-d35a93c3f45b",
   "metadata": {},
   "outputs": [],
   "source": [
    "import pandas as pd\n",
    "import numpy as np\n",
    "from sklearn.metrics import (\n",
    "    roc_auc_score, f1_score, confusion_matrix\n",
    ")\n",
    "from catboost import CatBoostClassifier\n",
    "\n",
    "warnings.simplefilter('ignore')\n",
    "\n",
    "def load_data(filename):\n",
    "    df = pd.read_csv(filename)\n",
    "    return df\n",
    "\n",
    "def preprocess_data(df):\n",
    "    df = df.sample(frac=1, random_state=7).reset_index(drop=True)  # Shuffling\n",
    "    X = df.drop('target', axis=1)\n",
    "    y = df['target']\n",
    "    return X, y\n",
    "\n",
    "def train_catboost(X_train, y_train, iters, lr, d, a, b):\n",
    "    cb_model = CatBoostClassifier(\n",
    "        iterations=iters,\n",
    "        learning_rate=lr,\n",
    "        depth=d,\n",
    "        random_seed=7,\n",
    "        bagging_temperature=1,\n",
    "        logging_level='Silent',\n",
    "        class_weights=[a, b],\n",
    "        task_type=\"GPU\",\n",
    "        devices='0'\n",
    "    )\n",
    "    cb_model.fit(X_train, y_train)\n",
    "    return cb_model\n",
    "\n",
    "def evaluate_model(model, X_test, y_test):\n",
    "    preds = model.predict(X_test)\n",
    "    cm = confusion_matrix(y_test, preds)\n",
    "    total = sum(sum(cm))\n",
    "    roca = round(roc_auc_score(y_test, preds), 4)\n",
    "    sens = round(cm[1, 1] / (cm[1, 1] + cm[0, 1]), 4)\n",
    "    spec = round(cm[0, 0] / (cm[1, 0] + cm[0, 0]), 4)\n",
    "    f1sc = round(f1_score(y_test, preds), 4)\n",
    "    return spec, sens, roca, f1sc\n",
    "\n",
    "def model_cats_test0(iters0, lr0, d0, a0, b0, train_name0, test_name0):\n",
    "    # Load and preprocess training data\n",
    "    train_df = load_data(train_name0)\n",
    "    X_train, y_train = preprocess_data(train_df)\n",
    "\n",
    "    # Load and preprocess testing data\n",
    "    test_df = load_data(test_name0)\n",
    "    X_test, y_test = preprocess_data(test_df)\n",
    "\n",
    "    # Train CatBoost\n",
    "    cb_model = train_catboost(X_train, y_train, iters0, lr0, d0, a0, b0)\n",
    "\n",
    "    # Evaluate model\n",
    "    spec, sens, roca, f1sc = evaluate_model(cb_model, X_test, y_test)\n",
    "\n",
    "    return spec, sens, roca, f1sc\n"
   ]
  },
  {
   "cell_type": "code",
   "execution_count": null,
   "id": "86c9494e-7662-47dc-a392-40e8d004f11e",
   "metadata": {},
   "outputs": [],
   "source": [
    "tr = \"TrainSet-80-44754_3374_TargetIn.csv\"\n",
    "ts = \"TestSet-20-44754_3374_TargetIn.csv\"\n",
    "model_cats_test0(10, 0.3, 3, 0.50, 0.50, tr, ts)"
   ]
  }
 ],
 "metadata": {
  "kernelspec": {
   "display_name": "Python 3 (ipykernel)",
   "language": "python",
   "name": "python3"
  },
  "language_info": {
   "codemirror_mode": {
    "name": "ipython",
    "version": 3
   },
   "file_extension": ".py",
   "mimetype": "text/x-python",
   "name": "python",
   "nbconvert_exporter": "python",
   "pygments_lexer": "ipython3",
   "version": "3.8.5"
  }
 },
 "nbformat": 4,
 "nbformat_minor": 5
}
