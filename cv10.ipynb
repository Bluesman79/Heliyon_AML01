{
 "cells": [
  {
   "cell_type": "code",
   "execution_count": 12,
   "id": "0acb7bf6-9867-4d1a-a997-2f2416bb284f",
   "metadata": {},
   "outputs": [],
   "source": [
    "import pandas as pd\n",
    "import numpy as np\n",
    "from sklearn.model_selection import KFold\n",
    "from sklearn.metrics import (\n",
    "    roc_auc_score, accuracy_score, f1_score, confusion_matrix\n",
    ")\n",
    "from catboost import CatBoostClassifier\n",
    "\n",
    "def train_catboost(X_train, y_train, iters, lr, d, a, b):\n",
    "    clf = CatBoostClassifier(\n",
    "        iterations=iters,\n",
    "        learning_rate=lr,\n",
    "        depth=d,\n",
    "        random_seed=7,\n",
    "        bagging_temperature=1,\n",
    "        logging_level='Silent',\n",
    "        class_weights=[a, b],\n",
    "        task_type=\"GPU\",\n",
    "        devices='0'\n",
    "    )\n",
    "    clf.fit(X_train, y_train)\n",
    "    return clf\n",
    "\n",
    "def evaluate_model(clf, X_test, y_test):\n",
    "    preds = clf.predict(X_test)\n",
    "    score = roc_auc_score(y_test, preds)\n",
    "    accuracy = accuracy_score(y_test, preds)\n",
    "    return preds, score, accuracy\n",
    "\n",
    "def model_cats_cv10(iters0, lr0, d0, a0, b0, train_name):\n",
    "    df = pd.read_csv(train_name)\n",
    "    df = df.sample(frac=1, random_state=7).reset_index(drop=True)  # Shuffling\n",
    "    X_train = df.drop('target', axis=1)\n",
    "    y_train = df['target']\n",
    "    \n",
    "    kf = KFold(n_splits=10, random_state=17, shuffle=True)\n",
    "    target_test_l, preds_l, roc_auc_scores_l, accu_l = [], [], [], []\n",
    "    \n",
    "    for train_index, test_index in kf.split(X_train):\n",
    "        data_train, target_train = X_train.iloc[train_index], y_train.iloc[train_index]\n",
    "        data_test, target_test = X_train.iloc[test_index], y_train.iloc[test_index]\n",
    "        \n",
    "        clf = train_catboost(data_train, target_train, iters0, lr0, d0, a0, b0)\n",
    "        preds, score, accuracy = evaluate_model(clf, data_test, target_test)\n",
    "        \n",
    "        target_test_l.extend(target_test)\n",
    "        preds_l.extend(preds)\n",
    "        roc_auc_scores_l.append(score)\n",
    "        accu_l.append(accuracy)\n",
    "    \n",
    "    cm = confusion_matrix(target_test_l, preds_l)\n",
    "    specificity = cm[0,0] / (cm[1,0] + cm[0,0])\n",
    "    sensitivity = cm[1,1] / (cm[1,1] + cm[0,1])\n",
    "    \n",
    "    return specificity, sensitivity, roc_auc_score(target_test_l, preds_l), f1_score(target_test_l, preds_l)\n"
   ]
  },
  {
   "cell_type": "code",
   "execution_count": 13,
   "id": "df93e780-7d3e-4e9a-b65c-55faa55bb409",
   "metadata": {},
   "outputs": [
    {
     "data": {
      "text/plain": [
       "(0.9906672888474102,\n",
       " 0.9802158273381295,\n",
       " 0.9797235653681233,\n",
       " 0.9723461195361285)"
      ]
     },
     "execution_count": 13,
     "metadata": {},
     "output_type": "execute_result"
    }
   ],
   "source": [
    "tr = \"TrainSet-80-44754_3374_TargetIn.csv\"\n",
    "ts = \"TestSet-20-44754_3374_TargetIn.csv\"\n",
    "model_cats_cv10(10, 0.3, 3, 0.50, 0.50, tr)"
   ]
  }
 ],
 "metadata": {
  "kernelspec": {
   "display_name": "Python 3 (ipykernel)",
   "language": "python",
   "name": "python3"
  },
  "language_info": {
   "codemirror_mode": {
    "name": "ipython",
    "version": 3
   },
   "file_extension": ".py",
   "mimetype": "text/x-python",
   "name": "python",
   "nbconvert_exporter": "python",
   "pygments_lexer": "ipython3",
   "version": "3.8.5"
  }
 },
 "nbformat": 4,
 "nbformat_minor": 5
}
